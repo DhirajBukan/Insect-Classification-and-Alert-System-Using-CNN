{
 "cells": [
  {
   "cell_type": "code",
   "execution_count": null,
   "id": "c817359d",
   "metadata": {
    "id": "c817359d"
   },
   "outputs": [],
   "source": [
    "from tensorflow.keras.preprocessing.image import ImageDataGenerator"
   ]
  },
  {
   "cell_type": "code",
   "execution_count": null,
   "id": "a13f4eb7",
   "metadata": {
    "id": "a13f4eb7"
   },
   "outputs": [],
   "source": [
    "from tensorflow.keras.preprocessing import image"
   ]
  },
  {
   "cell_type": "code",
   "execution_count": null,
   "id": "b5c800c7",
   "metadata": {
    "id": "b5c800c7"
   },
   "outputs": [],
   "source": [
    "from tensorflow.keras.optimizers import RMSprop"
   ]
  },
  {
   "cell_type": "code",
   "execution_count": null,
   "id": "d67ac004",
   "metadata": {
    "id": "d67ac004"
   },
   "outputs": [],
   "source": [
    "import tensorflow as tf"
   ]
  },
  {
   "cell_type": "code",
   "execution_count": null,
   "id": "5dbb6554",
   "metadata": {
    "id": "5dbb6554"
   },
   "outputs": [],
   "source": [
    "import matplotlib.pyplot as plt"
   ]
  },
  {
   "cell_type": "code",
   "execution_count": null,
   "id": "2bf31ae5",
   "metadata": {
    "id": "2bf31ae5"
   },
   "outputs": [],
   "source": [
    "import numpy as np"
   ]
  },
  {
   "cell_type": "code",
   "execution_count": null,
   "id": "6730b1de",
   "metadata": {
    "id": "6730b1de"
   },
   "outputs": [],
   "source": [
    "import cv2\n",
    "import os"
   ]
  },
  {
   "cell_type": "code",
   "execution_count": null,
   "id": "8ae8c8b0",
   "metadata": {
    "id": "8ae8c8b0"
   },
   "outputs": [],
   "source": [
    "train = ImageDataGenerator(rescale=1./255,\n",
    "      rotation_range=90,\n",
    "      width_shift_range=0.2,                # Applaying these all Data Augmentations\n",
    "      height_shift_range=0.2,\n",
    "      shear_range=0.2,\n",
    "      zoom_range=0.2,\n",
    "      horizontal_flip=True,\n",
    "      fill_mode='nearest')\n",
    "validation = ImageDataGenerator(rescale = 1/255)"
   ]
  },
  {
   "cell_type": "code",
   "execution_count": null,
   "id": "c5a6f0db",
   "metadata": {
    "id": "c5a6f0db",
    "outputId": "b21bc516-4742-4021-bfa2-8a32168c122a"
   },
   "outputs": [
    {
     "name": "stdout",
     "output_type": "stream",
     "text": [
      "Found 275 images belonging to 5 classes.\n"
     ]
    }
   ],
   "source": [
    "train_data = train.flow_from_directory('F:\\Datasetwbg2/train',\n",
    "                                      target_size = (64,64),\n",
    "                                      batch_size = 16,\n",
    "                                      class_mode = 'categorical')"
   ]
  },
  {
   "cell_type": "code",
   "execution_count": null,
   "id": "f22e3372",
   "metadata": {
    "id": "f22e3372",
    "outputId": "28cdb66e-eb46-44a1-d0ff-ce10cab31b28"
   },
   "outputs": [
    {
     "name": "stdout",
     "output_type": "stream",
     "text": [
      "Found 68 images belonging to 5 classes.\n"
     ]
    }
   ],
   "source": [
    "validation_dataset = train.flow_from_directory('F:\\Datasetwbg2/test',\n",
    "                                      target_size = (64,64),\n",
    "                                      batch_size = 16,\n",
    "                                      class_mode = 'categorical')"
   ]
  },
  {
   "cell_type": "code",
   "execution_count": null,
   "id": "cd2c805a",
   "metadata": {
    "id": "cd2c805a",
    "outputId": "6c5f4650-c931-4343-9112-163e9495e890"
   },
   "outputs": [
    {
     "data": {
      "text/plain": [
       "{'Assassins Bug': 0, 'Bee': 1, 'Mosquito': 2, 'Moths': 3, 'Wasp': 4}"
      ]
     },
     "execution_count": 11,
     "metadata": {},
     "output_type": "execute_result"
    }
   ],
   "source": [
    "train_data.class_indices"
   ]
  },
  {
   "cell_type": "code",
   "execution_count": null,
   "id": "6a984f9c",
   "metadata": {
    "id": "6a984f9c"
   },
   "outputs": [],
   "source": [
    "model = tf.keras.models.Sequential([tf.keras.layers.Conv2D(16,(3,3),activation = 'relu', input_shape=(64,64,3)),\n",
    "                                   tf.keras.layers.MaxPool2D(2,2),\n",
    "\n",
    "                                   tf.keras.layers.Conv2D(32,(3,3),activation = 'relu'),\n",
    "                                   tf.keras.layers.MaxPool2D(2,2),\n",
    "\n",
    "                                   tf.keras.layers.Conv2D(64,(3,3),activation = 'relu',),\n",
    "                                   tf.keras.layers.MaxPool2D(2,2),\n",
    "\n",
    "                                   tf.keras.layers.Flatten(),\n",
    "\n",
    "                                   tf.keras.layers.Dense(128,activation = 'relu'),\n",
    "                                   tf.keras.layers.Dense(128,activation = 'relu'),\n",
    "                                   tf.keras.layers.Dense(5,activation = 'softmax'),\n",
    "                                   ])"
   ]
  },
  {
   "cell_type": "code",
   "execution_count": null,
   "id": "57c0fcda",
   "metadata": {
    "id": "57c0fcda",
    "outputId": "beb25bea-2cec-4806-94db-182d58182777"
   },
   "outputs": [
    {
     "name": "stdout",
     "output_type": "stream",
     "text": [
      "Model: \"sequential\"\n",
      "_________________________________________________________________\n",
      "Layer (type)                 Output Shape              Param #   \n",
      "=================================================================\n",
      "conv2d (Conv2D)              (None, 62, 62, 16)        448       \n",
      "_________________________________________________________________\n",
      "max_pooling2d (MaxPooling2D) (None, 31, 31, 16)        0         \n",
      "_________________________________________________________________\n",
      "conv2d_1 (Conv2D)            (None, 29, 29, 32)        4640      \n",
      "_________________________________________________________________\n",
      "max_pooling2d_1 (MaxPooling2 (None, 14, 14, 32)        0         \n",
      "_________________________________________________________________\n",
      "conv2d_2 (Conv2D)            (None, 12, 12, 64)        18496     \n",
      "_________________________________________________________________\n",
      "max_pooling2d_2 (MaxPooling2 (None, 6, 6, 64)          0         \n",
      "_________________________________________________________________\n",
      "flatten (Flatten)            (None, 2304)              0         \n",
      "_________________________________________________________________\n",
      "dense (Dense)                (None, 128)               295040    \n",
      "_________________________________________________________________\n",
      "dense_1 (Dense)              (None, 128)               16512     \n",
      "_________________________________________________________________\n",
      "dense_2 (Dense)              (None, 5)                 645       \n",
      "=================================================================\n",
      "Total params: 335,781\n",
      "Trainable params: 335,781\n",
      "Non-trainable params: 0\n",
      "_________________________________________________________________\n"
     ]
    }
   ],
   "source": [
    "model.summary()"
   ]
  },
  {
   "cell_type": "code",
   "execution_count": null,
   "id": "f227e5c9",
   "metadata": {
    "id": "f227e5c9"
   },
   "outputs": [],
   "source": [
    "model.compile(loss = 'categorical_crossentropy',\n",
    "             #optimizer = RMSprop(learning_rate = 0.001),\n",
    "              optimizer = 'adam',\n",
    "             metrics = ['accuracy'])"
   ]
  },
  {
   "cell_type": "code",
   "execution_count": null,
   "id": "1fc2fbb4",
   "metadata": {
    "id": "1fc2fbb4"
   },
   "outputs": [],
   "source": [
    "my_callbacks = [\n",
    "    tf.keras.callbacks.EarlyStopping(patience=2),\n",
    "    tf.keras.callbacks.ModelCheckpoint(filepath='model.{epoch:02d}-{val_loss:.2f}.h5'),\n",
    "    tf.keras.callbacks.TensorBoard(log_dir='./logs'),\n",
    "]"
   ]
  },
  {
   "cell_type": "code",
   "execution_count": null,
   "id": "9ce556b8",
   "metadata": {
    "id": "9ce556b8"
   },
   "outputs": [],
   "source": [
    "from tensorflow.compat.v1 import ConfigProto\n",
    "from tensorflow.compat.v1 import InteractiveSession\n",
    "\n",
    "config = ConfigProto()\n",
    "config.gpu_options.allow_growth = True\n",
    "session = InteractiveSession(config=config)"
   ]
  },
  {
   "cell_type": "code",
   "execution_count": null,
   "id": "734eba85",
   "metadata": {
    "id": "734eba85",
    "outputId": "aa852992-3728-43a4-898d-63055de83878"
   },
   "outputs": [
    {
     "name": "stdout",
     "output_type": "stream",
     "text": [
      "Epoch 1/100\n",
      "18/18 [==============================] - 23s 826ms/step - loss: 1.5756 - accuracy: 0.2945 - val_loss: 1.5100 - val_accuracy: 0.2794\n",
      "Epoch 2/100\n",
      "18/18 [==============================] - 2s 132ms/step - loss: 1.4753 - accuracy: 0.3636 - val_loss: 1.2731 - val_accuracy: 0.5000\n",
      "Epoch 3/100\n",
      "18/18 [==============================] - 2s 131ms/step - loss: 1.2933 - accuracy: 0.4764 - val_loss: 0.9273 - val_accuracy: 0.7500\n",
      "Epoch 4/100\n",
      "18/18 [==============================] - 2s 131ms/step - loss: 1.1413 - accuracy: 0.5527 - val_loss: 0.8508 - val_accuracy: 0.7059\n",
      "Epoch 5/100\n",
      "18/18 [==============================] - 2s 131ms/step - loss: 1.0766 - accuracy: 0.6000 - val_loss: 0.6272 - val_accuracy: 0.9118\n",
      "Epoch 6/100\n",
      "18/18 [==============================] - 2s 135ms/step - loss: 0.9121 - accuracy: 0.6436 - val_loss: 0.4122 - val_accuracy: 0.8824\n",
      "Epoch 7/100\n",
      "18/18 [==============================] - 2s 131ms/step - loss: 0.8825 - accuracy: 0.6764 - val_loss: 0.5961 - val_accuracy: 0.8088\n",
      "Epoch 8/100\n",
      "18/18 [==============================] - 2s 132ms/step - loss: 0.7809 - accuracy: 0.7127 - val_loss: 0.3133 - val_accuracy: 0.9559\n",
      "Epoch 9/100\n",
      "18/18 [==============================] - 2s 130ms/step - loss: 0.7656 - accuracy: 0.7382 - val_loss: 0.3384 - val_accuracy: 0.9559\n",
      "Epoch 10/100\n",
      "18/18 [==============================] - 2s 128ms/step - loss: 0.7351 - accuracy: 0.7418 - val_loss: 0.3651 - val_accuracy: 0.9118\n",
      "Epoch 11/100\n",
      "18/18 [==============================] - 2s 138ms/step - loss: 0.7902 - accuracy: 0.6945 - val_loss: 0.3518 - val_accuracy: 0.8824\n",
      "Epoch 12/100\n",
      "18/18 [==============================] - 2s 138ms/step - loss: 0.6235 - accuracy: 0.7527 - val_loss: 0.2712 - val_accuracy: 0.9412\n",
      "Epoch 13/100\n",
      "18/18 [==============================] - 2s 139ms/step - loss: 0.6118 - accuracy: 0.7745 - val_loss: 0.3767 - val_accuracy: 0.8088\n",
      "Epoch 14/100\n",
      "18/18 [==============================] - 2s 128ms/step - loss: 0.6104 - accuracy: 0.7964 - val_loss: 0.2721 - val_accuracy: 0.9265\n",
      "Epoch 15/100\n",
      "18/18 [==============================] - 2s 131ms/step - loss: 0.6103 - accuracy: 0.7855 - val_loss: 0.3202 - val_accuracy: 0.8971\n",
      "Epoch 16/100\n",
      "18/18 [==============================] - 2s 133ms/step - loss: 0.6632 - accuracy: 0.7564 - val_loss: 0.2705 - val_accuracy: 0.9265\n",
      "Epoch 17/100\n",
      "18/18 [==============================] - 2s 135ms/step - loss: 0.6081 - accuracy: 0.7891 - val_loss: 0.2449 - val_accuracy: 0.9559\n",
      "Epoch 18/100\n",
      "18/18 [==============================] - 2s 131ms/step - loss: 0.6653 - accuracy: 0.7527 - val_loss: 0.2710 - val_accuracy: 0.9265\n",
      "Epoch 19/100\n",
      "18/18 [==============================] - 2s 134ms/step - loss: 0.5583 - accuracy: 0.7855 - val_loss: 0.3443 - val_accuracy: 0.8529\n",
      "Epoch 20/100\n",
      "18/18 [==============================] - 2s 131ms/step - loss: 0.5569 - accuracy: 0.7891 - val_loss: 0.2536 - val_accuracy: 0.9559\n",
      "Epoch 21/100\n",
      "18/18 [==============================] - 2s 131ms/step - loss: 0.4464 - accuracy: 0.8364 - val_loss: 0.1688 - val_accuracy: 0.9559\n",
      "Epoch 22/100\n",
      "18/18 [==============================] - 2s 127ms/step - loss: 0.5407 - accuracy: 0.8255 - val_loss: 0.5576 - val_accuracy: 0.8382\n",
      "Epoch 23/100\n",
      "18/18 [==============================] - 2s 137ms/step - loss: 0.5912 - accuracy: 0.7636 - val_loss: 0.2239 - val_accuracy: 0.9265\n",
      "Epoch 24/100\n",
      "18/18 [==============================] - 2s 133ms/step - loss: 0.4824 - accuracy: 0.8036 - val_loss: 0.2131 - val_accuracy: 0.9559\n",
      "Epoch 25/100\n",
      "18/18 [==============================] - 2s 134ms/step - loss: 0.4563 - accuracy: 0.8109 - val_loss: 0.1970 - val_accuracy: 0.9706\n",
      "Epoch 26/100\n",
      "18/18 [==============================] - 2s 131ms/step - loss: 0.5011 - accuracy: 0.8073 - val_loss: 0.2507 - val_accuracy: 0.9412\n",
      "Epoch 27/100\n",
      "18/18 [==============================] - 2s 135ms/step - loss: 0.4017 - accuracy: 0.8327 - val_loss: 0.3628 - val_accuracy: 0.8676\n",
      "Epoch 28/100\n",
      "18/18 [==============================] - 2s 132ms/step - loss: 0.5002 - accuracy: 0.8255 - val_loss: 0.2413 - val_accuracy: 0.9559\n",
      "Epoch 29/100\n",
      "18/18 [==============================] - 2s 132ms/step - loss: 0.4316 - accuracy: 0.8327 - val_loss: 0.5730 - val_accuracy: 0.7647\n",
      "Epoch 30/100\n",
      "18/18 [==============================] - 2s 132ms/step - loss: 0.4991 - accuracy: 0.8291 - val_loss: 0.1749 - val_accuracy: 0.9559\n",
      "Epoch 31/100\n",
      "18/18 [==============================] - 2s 129ms/step - loss: 0.3551 - accuracy: 0.8727 - val_loss: 0.1411 - val_accuracy: 0.9706\n",
      "Epoch 32/100\n",
      "18/18 [==============================] - 2s 131ms/step - loss: 0.3092 - accuracy: 0.8727 - val_loss: 0.1440 - val_accuracy: 0.9412\n",
      "Epoch 33/100\n",
      "18/18 [==============================] - 2s 132ms/step - loss: 0.4053 - accuracy: 0.8436 - val_loss: 0.3466 - val_accuracy: 0.8824\n",
      "Epoch 34/100\n",
      "18/18 [==============================] - 2s 134ms/step - loss: 0.3333 - accuracy: 0.8727 - val_loss: 0.2339 - val_accuracy: 0.9265\n",
      "Epoch 35/100\n",
      "18/18 [==============================] - 2s 131ms/step - loss: 0.3838 - accuracy: 0.8436 - val_loss: 0.1661 - val_accuracy: 0.9412\n",
      "Epoch 36/100\n",
      "18/18 [==============================] - 2s 131ms/step - loss: 0.3431 - accuracy: 0.8727 - val_loss: 0.2183 - val_accuracy: 0.9265\n",
      "Epoch 37/100\n",
      "18/18 [==============================] - 2s 139ms/step - loss: 0.4758 - accuracy: 0.8291 - val_loss: 0.1390 - val_accuracy: 0.9559\n",
      "Epoch 38/100\n",
      "18/18 [==============================] - 3s 142ms/step - loss: 0.3864 - accuracy: 0.8364 - val_loss: 0.3094 - val_accuracy: 0.9118\n",
      "Epoch 39/100\n",
      "18/18 [==============================] - 2s 132ms/step - loss: 0.3110 - accuracy: 0.8800 - val_loss: 0.1696 - val_accuracy: 0.9559\n",
      "Epoch 40/100\n",
      "18/18 [==============================] - 2s 138ms/step - loss: 0.2979 - accuracy: 0.8945 - val_loss: 0.1669 - val_accuracy: 0.9706\n",
      "Epoch 41/100\n",
      "18/18 [==============================] - 2s 133ms/step - loss: 0.3344 - accuracy: 0.8618 - val_loss: 0.1536 - val_accuracy: 0.9559\n",
      "Epoch 42/100\n",
      "18/18 [==============================] - 2s 131ms/step - loss: 0.3550 - accuracy: 0.8836 - val_loss: 0.1858 - val_accuracy: 0.9412\n",
      "Epoch 43/100\n",
      "18/18 [==============================] - 2s 134ms/step - loss: 0.3052 - accuracy: 0.8873 - val_loss: 0.1712 - val_accuracy: 0.9559\n",
      "Epoch 44/100\n",
      "18/18 [==============================] - 2s 131ms/step - loss: 0.3317 - accuracy: 0.8727 - val_loss: 0.2384 - val_accuracy: 0.9265\n",
      "Epoch 45/100\n",
      "18/18 [==============================] - 2s 132ms/step - loss: 0.2275 - accuracy: 0.9200 - val_loss: 0.1169 - val_accuracy: 0.9706\n",
      "Epoch 46/100\n",
      "18/18 [==============================] - 2s 137ms/step - loss: 0.2869 - accuracy: 0.8691 - val_loss: 0.2085 - val_accuracy: 0.9265\n",
      "Epoch 47/100\n",
      "18/18 [==============================] - 2s 133ms/step - loss: 0.3285 - accuracy: 0.8727 - val_loss: 0.1627 - val_accuracy: 0.9559\n",
      "Epoch 48/100\n",
      "18/18 [==============================] - 2s 142ms/step - loss: 0.2361 - accuracy: 0.9127 - val_loss: 0.2354 - val_accuracy: 0.9412\n",
      "Epoch 49/100\n",
      "18/18 [==============================] - 2s 132ms/step - loss: 0.3631 - accuracy: 0.8727 - val_loss: 0.2503 - val_accuracy: 0.8971\n",
      "Epoch 50/100\n",
      "18/18 [==============================] - 2s 133ms/step - loss: 0.2731 - accuracy: 0.8945 - val_loss: 0.2242 - val_accuracy: 0.9412\n",
      "Epoch 51/100\n",
      "18/18 [==============================] - 2s 130ms/step - loss: 0.2911 - accuracy: 0.9018 - val_loss: 0.2639 - val_accuracy: 0.9265\n",
      "Epoch 52/100\n",
      "18/18 [==============================] - 2s 130ms/step - loss: 0.2594 - accuracy: 0.8909 - val_loss: 0.1069 - val_accuracy: 0.9559\n",
      "Epoch 53/100\n",
      "18/18 [==============================] - 2s 130ms/step - loss: 0.2706 - accuracy: 0.9055 - val_loss: 0.2230 - val_accuracy: 0.8971\n",
      "Epoch 54/100\n",
      "18/18 [==============================] - 2s 131ms/step - loss: 0.1887 - accuracy: 0.9382 - val_loss: 0.1504 - val_accuracy: 0.9853\n",
      "Epoch 55/100\n",
      "18/18 [==============================] - 2s 130ms/step - loss: 0.2130 - accuracy: 0.9091 - val_loss: 0.1615 - val_accuracy: 0.9559\n",
      "Epoch 56/100\n",
      "18/18 [==============================] - 2s 133ms/step - loss: 0.1917 - accuracy: 0.9345 - val_loss: 0.0903 - val_accuracy: 0.9706\n",
      "Epoch 57/100\n",
      "18/18 [==============================] - 2s 136ms/step - loss: 0.1905 - accuracy: 0.9236 - val_loss: 0.2402 - val_accuracy: 0.9559\n"
     ]
    },
    {
     "name": "stdout",
     "output_type": "stream",
     "text": [
      "Epoch 58/100\n",
      "18/18 [==============================] - 2s 134ms/step - loss: 0.3373 - accuracy: 0.8982 - val_loss: 0.2307 - val_accuracy: 0.9412\n",
      "Epoch 59/100\n",
      "18/18 [==============================] - 2s 128ms/step - loss: 0.2235 - accuracy: 0.9309 - val_loss: 0.1138 - val_accuracy: 0.9412\n",
      "Epoch 60/100\n",
      "18/18 [==============================] - 2s 133ms/step - loss: 0.3142 - accuracy: 0.9018 - val_loss: 0.1518 - val_accuracy: 0.9559\n",
      "Epoch 61/100\n",
      "18/18 [==============================] - 2s 130ms/step - loss: 0.2817 - accuracy: 0.8945 - val_loss: 0.1944 - val_accuracy: 0.9559\n",
      "Epoch 62/100\n",
      "18/18 [==============================] - 2s 133ms/step - loss: 0.1798 - accuracy: 0.9491 - val_loss: 0.1805 - val_accuracy: 0.9412\n",
      "Epoch 63/100\n",
      "18/18 [==============================] - 2s 132ms/step - loss: 0.1998 - accuracy: 0.9127 - val_loss: 0.1373 - val_accuracy: 0.9559\n",
      "Epoch 64/100\n",
      "18/18 [==============================] - 2s 135ms/step - loss: 0.1731 - accuracy: 0.9273 - val_loss: 0.1404 - val_accuracy: 0.9559\n",
      "Epoch 65/100\n",
      "18/18 [==============================] - 2s 126ms/step - loss: 0.1816 - accuracy: 0.9273 - val_loss: 0.2358 - val_accuracy: 0.9265\n",
      "Epoch 66/100\n",
      "18/18 [==============================] - 2s 130ms/step - loss: 0.1841 - accuracy: 0.9309 - val_loss: 0.0888 - val_accuracy: 0.9706\n",
      "Epoch 67/100\n",
      "18/18 [==============================] - 3s 145ms/step - loss: 0.2621 - accuracy: 0.9091 - val_loss: 0.1525 - val_accuracy: 0.9559\n",
      "Epoch 68/100\n",
      "18/18 [==============================] - 3s 159ms/step - loss: 0.2504 - accuracy: 0.8982 - val_loss: 0.2989 - val_accuracy: 0.9118\n",
      "Epoch 69/100\n",
      "18/18 [==============================] - 2s 139ms/step - loss: 0.1936 - accuracy: 0.9273 - val_loss: 0.1467 - val_accuracy: 0.9559\n",
      "Epoch 70/100\n",
      "18/18 [==============================] - 2s 134ms/step - loss: 0.1655 - accuracy: 0.9382 - val_loss: 0.1607 - val_accuracy: 0.9559\n",
      "Epoch 71/100\n",
      "18/18 [==============================] - 3s 149ms/step - loss: 0.2043 - accuracy: 0.9382 - val_loss: 0.2067 - val_accuracy: 0.9265\n",
      "Epoch 72/100\n",
      "18/18 [==============================] - 3s 138ms/step - loss: 0.1245 - accuracy: 0.9564 - val_loss: 0.1063 - val_accuracy: 0.9559\n",
      "Epoch 73/100\n",
      "18/18 [==============================] - 2s 138ms/step - loss: 0.1789 - accuracy: 0.9345 - val_loss: 0.1238 - val_accuracy: 0.9706\n",
      "Epoch 74/100\n",
      "18/18 [==============================] - 2s 130ms/step - loss: 0.2788 - accuracy: 0.9018 - val_loss: 0.1466 - val_accuracy: 0.9559\n",
      "Epoch 75/100\n",
      "18/18 [==============================] - 2s 132ms/step - loss: 0.1842 - accuracy: 0.9273 - val_loss: 0.1750 - val_accuracy: 0.9412\n",
      "Epoch 76/100\n",
      "18/18 [==============================] - 2s 130ms/step - loss: 0.1719 - accuracy: 0.9273 - val_loss: 0.1281 - val_accuracy: 0.9559\n",
      "Epoch 77/100\n",
      "18/18 [==============================] - 2s 137ms/step - loss: 0.1154 - accuracy: 0.9564 - val_loss: 0.1292 - val_accuracy: 0.9559\n",
      "Epoch 78/100\n",
      "18/18 [==============================] - 2s 132ms/step - loss: 0.1414 - accuracy: 0.9309 - val_loss: 0.1167 - val_accuracy: 0.9706\n",
      "Epoch 79/100\n",
      "18/18 [==============================] - 2s 132ms/step - loss: 0.3327 - accuracy: 0.8873 - val_loss: 0.3171 - val_accuracy: 0.8676\n",
      "Epoch 80/100\n",
      "18/18 [==============================] - 3s 140ms/step - loss: 0.2256 - accuracy: 0.9091 - val_loss: 0.1807 - val_accuracy: 0.9265\n",
      "Epoch 81/100\n",
      "18/18 [==============================] - 2s 130ms/step - loss: 0.2488 - accuracy: 0.9164 - val_loss: 0.2385 - val_accuracy: 0.9412\n",
      "Epoch 82/100\n",
      "18/18 [==============================] - 2s 131ms/step - loss: 0.2458 - accuracy: 0.9164 - val_loss: 0.1217 - val_accuracy: 0.9559\n",
      "Epoch 83/100\n",
      "18/18 [==============================] - 2s 133ms/step - loss: 0.1793 - accuracy: 0.9309 - val_loss: 0.1070 - val_accuracy: 0.9853\n",
      "Epoch 84/100\n",
      "18/18 [==============================] - 2s 131ms/step - loss: 0.1856 - accuracy: 0.9309 - val_loss: 0.1010 - val_accuracy: 0.9412\n",
      "Epoch 85/100\n",
      "18/18 [==============================] - 2s 132ms/step - loss: 0.1179 - accuracy: 0.9491 - val_loss: 0.1769 - val_accuracy: 0.9265\n",
      "Epoch 86/100\n",
      "18/18 [==============================] - 2s 137ms/step - loss: 0.1801 - accuracy: 0.9418 - val_loss: 0.1307 - val_accuracy: 0.9412\n",
      "Epoch 87/100\n",
      "18/18 [==============================] - 2s 131ms/step - loss: 0.1532 - accuracy: 0.9527 - val_loss: 0.2395 - val_accuracy: 0.9706\n",
      "Epoch 88/100\n",
      "18/18 [==============================] - 2s 131ms/step - loss: 0.1575 - accuracy: 0.9345 - val_loss: 0.1461 - val_accuracy: 0.9706\n",
      "Epoch 89/100\n",
      "18/18 [==============================] - 2s 132ms/step - loss: 0.0965 - accuracy: 0.9709 - val_loss: 0.2882 - val_accuracy: 0.9559\n",
      "Epoch 90/100\n",
      "18/18 [==============================] - 3s 146ms/step - loss: 0.1185 - accuracy: 0.9673 - val_loss: 0.3464 - val_accuracy: 0.8971\n",
      "Epoch 91/100\n",
      "18/18 [==============================] - 2s 131ms/step - loss: 0.2522 - accuracy: 0.9200 - val_loss: 0.0650 - val_accuracy: 0.9706\n",
      "Epoch 92/100\n",
      "18/18 [==============================] - 2s 133ms/step - loss: 0.1832 - accuracy: 0.9200 - val_loss: 0.1160 - val_accuracy: 0.9853\n",
      "Epoch 93/100\n",
      "18/18 [==============================] - 2s 131ms/step - loss: 0.1222 - accuracy: 0.9600 - val_loss: 0.1234 - val_accuracy: 0.9706\n",
      "Epoch 94/100\n",
      "18/18 [==============================] - 2s 132ms/step - loss: 0.1299 - accuracy: 0.9491 - val_loss: 0.3251 - val_accuracy: 0.8676\n",
      "Epoch 95/100\n",
      "18/18 [==============================] - 2s 133ms/step - loss: 0.0897 - accuracy: 0.9600 - val_loss: 0.1277 - val_accuracy: 0.9706\n",
      "Epoch 96/100\n",
      "18/18 [==============================] - 2s 132ms/step - loss: 0.0929 - accuracy: 0.9636 - val_loss: 0.0715 - val_accuracy: 0.9853\n",
      "Epoch 97/100\n",
      "18/18 [==============================] - 2s 136ms/step - loss: 0.0992 - accuracy: 0.9636 - val_loss: 0.0712 - val_accuracy: 0.9706\n",
      "Epoch 98/100\n",
      "18/18 [==============================] - 2s 139ms/step - loss: 0.1175 - accuracy: 0.9673 - val_loss: 0.2140 - val_accuracy: 0.9412\n",
      "Epoch 99/100\n",
      "18/18 [==============================] - 2s 134ms/step - loss: 0.1182 - accuracy: 0.9564 - val_loss: 0.0705 - val_accuracy: 0.9853\n",
      "Epoch 100/100\n",
      "18/18 [==============================] - 2s 133ms/step - loss: 0.0714 - accuracy: 0.9782 - val_loss: 0.1454 - val_accuracy: 0.9706\n"
     ]
    }
   ],
   "source": [
    "model_fit = model.fit(train_data,\n",
    "                      #steps_per_epoch = 100,\n",
    "                     epochs = 100,\n",
    "                     validation_data = validation_dataset,\n",
    "                     #callbacks=my_callbacks\n",
    "                     )"
   ]
  },
  {
   "cell_type": "code",
   "execution_count": null,
   "id": "6b639b3c",
   "metadata": {
    "id": "6b639b3c"
   },
   "outputs": [],
   "source": [
    "model.save('F:\\\\7april5classes.h5')"
   ]
  },
  {
   "cell_type": "code",
   "execution_count": null,
   "id": "5b1a8be9",
   "metadata": {
    "id": "5b1a8be9",
    "outputId": "e6f5db22-242b-4a98-f17a-00a115695d66"
   },
   "outputs": [
    {
     "data": {
      "image/png": "[encoded data removed]",
      "text/plain": [
       "<Figure size 432x288 with 1 Axes>"
      ]
     },
     "metadata": {
      "needs_background": "light"
     },
     "output_type": "display_data"
    },
    {
     "data": {
      "image/png": "[encoded data removed]",
      "text/plain": [
       "<Figure size 432x288 with 1 Axes>"
      ]
     },
     "metadata": {
      "needs_background": "light"
     },
     "output_type": "display_data"
    }
   ],
   "source": [
    "plt.plot(model_fit.history['accuracy'])\n",
    "plt.plot(model_fit.history['val_accuracy'])\n",
    "plt.title('model accuracy')\n",
    "plt.ylabel('accuracy')\n",
    "plt.xlabel('epoch')\n",
    "plt.legend(['train', 'test'], loc='upper left')\n",
    "plt.show()\n",
    "# summarize history for loss\n",
    "plt.plot(model_fit.history['loss'])\n",
    "plt.plot(model_fit.history['val_loss'])\n",
    "plt.title('model loss')\n",
    "plt.ylabel('loss')\n",
    "plt.xlabel('epoch')\n",
    "plt.legend(['train', 'test'], loc='upper left')\n",
    "plt.show()"
   ]
  },
  {
   "cell_type": "code",
   "execution_count": null,
   "id": "f0e98e6b",
   "metadata": {
    "id": "f0e98e6b"
   },
   "outputs": [],
   "source": [
    "from tensorflow.keras.models import load_model\n",
    "saved = load_model('F:\\\\7april5classes.h5')"
   ]
  },
  {
   "cell_type": "code",
   "execution_count": null,
   "id": "8f24dba6",
   "metadata": {
    "id": "8f24dba6",
    "outputId": "176c02be-8ce7-41e3-e5d2-76ca79ddcbcd"
   },
   "outputs": [
    {
     "name": "stdout",
     "output_type": "stream",
     "text": [
      "Model: \"sequential_1\"\n",
      "_________________________________________________________________\n",
      "Layer (type)                 Output Shape              Param #   \n",
      "=================================================================\n",
      "conv2d_3 (Conv2D)            (None, 62, 62, 16)        448       \n",
      "_________________________________________________________________\n",
      "max_pooling2d_3 (MaxPooling2 (None, 31, 31, 16)        0         \n",
      "_________________________________________________________________\n",
      "conv2d_4 (Conv2D)            (None, 29, 29, 32)        4640      \n",
      "_________________________________________________________________\n",
      "max_pooling2d_4 (MaxPooling2 (None, 14, 14, 32)        0         \n",
      "_________________________________________________________________\n",
      "conv2d_5 (Conv2D)            (None, 12, 12, 64)        18496     \n",
      "_________________________________________________________________\n",
      "max_pooling2d_5 (MaxPooling2 (None, 6, 6, 64)          0         \n",
      "_________________________________________________________________\n",
      "flatten_1 (Flatten)          (None, 2304)              0         \n",
      "_________________________________________________________________\n",
      "dense_3 (Dense)              (None, 128)               295040    \n",
      "_________________________________________________________________\n",
      "dense_4 (Dense)              (None, 128)               16512     \n",
      "_________________________________________________________________\n",
      "dense_5 (Dense)              (None, 6)                 774       \n",
      "=================================================================\n",
      "Total params: 335,910\n",
      "Trainable params: 335,910\n",
      "Non-trainable params: 0\n",
      "_________________________________________________________________\n"
     ]
    }
   ],
   "source": [
    "saved.summary()"
   ]
  },
  {
   "cell_type": "code",
   "execution_count": null,
   "id": "2836a405",
   "metadata": {
    "id": "2836a405",
    "outputId": "796dcfc8-59cf-4b09-bc8f-881173d53648"
   },
   "outputs": [
    {
     "name": "stdout",
     "output_type": "stream",
     "text": [
      "F:\\Datasetwbg2/train/Stink Bug/Assassinsbug (1).png\n",
      "[[0. 0. 0. 1. 0.]]\n",
      "F:\\Datasetwbg2/train/Stink Bug/Assassinsbug (2).png\n",
      "[[0. 0. 0. 1. 0.]]\n",
      "F:\\Datasetwbg2/train/Stink Bug/Assassinsbug (3).png\n",
      "[[0. 0. 0. 1. 0.]]\n",
      "F:\\Datasetwbg2/train/Stink Bug/Assassinsbug (4).png\n",
      "[[0. 0. 0. 1. 0.]]\n",
      "F:\\Datasetwbg2/train/Stink Bug/Assassinsbug (5).png\n",
      "[[0. 0. 0. 1. 0.]]\n",
      "F:\\Datasetwbg2/train/Stink Bug/Assassinsbug (6).png\n",
      "[[0. 0. 0. 1. 0.]]\n",
      "F:\\Datasetwbg2/train/Stink Bug/Assassinsbug (7).png\n",
      "[[0. 0. 0. 1. 0.]]\n",
      "F:\\Datasetwbg2/train/Stink Bug/Assassinsbug (8).png\n",
      "[[0. 0. 0. 1. 0.]]\n",
      "F:\\Datasetwbg2/train/Stink Bug/Assassinsbug (9).png\n",
      "[[0. 0. 0. 1. 0.]]\n",
      "F:\\Datasetwbg2/train/Stink Bug/Assassinsbug (10).png\n",
      "[[0. 0. 0. 1. 0.]]\n",
      "F:\\Datasetwbg2/train/Stink Bug/Assassinsbug (11).png\n",
      "[[0. 0. 0. 1. 0.]]\n",
      "F:\\Datasetwbg2/train/Stink Bug/Assassinsbug (12).png\n",
      "[[0. 0. 0. 1. 0.]]\n",
      "F:\\Datasetwbg2/train/Stink Bug/Assassinsbug (13).png\n",
      "[[0. 0. 0. 1. 0.]]\n",
      "F:\\Datasetwbg2/train/Stink Bug/Assassinsbug (14).png\n",
      "[[0. 0. 0. 1. 0.]]\n",
      "F:\\Datasetwbg2/train/Stink Bug/Assassinsbug (15).png\n",
      "[[0. 0. 0. 1. 0.]]\n",
      "F:\\Datasetwbg2/train/Stink Bug/Assassinsbug (16).png\n",
      "[[0. 0. 0. 1. 0.]]\n",
      "F:\\Datasetwbg2/train/Stink Bug/Assassinsbug (17).png\n",
      "[[0. 0. 0. 1. 0.]]\n",
      "F:\\Datasetwbg2/train/Stink Bug/Assassinsbug (18).png\n",
      "[[0. 0. 0. 1. 0.]]\n",
      "F:\\Datasetwbg2/train/Stink Bug/Assassinsbug (19).png\n",
      "[[0. 0. 0. 1. 0.]]\n",
      "F:\\Datasetwbg2/train/Stink Bug/Assassinsbug (20).png\n",
      "[[0. 0. 0. 1. 0.]]\n",
      "F:\\Datasetwbg2/train/Stink Bug/Assassinsbug (21).png\n",
      "[[0. 0. 0. 1. 0.]]\n",
      "F:\\Datasetwbg2/train/Stink Bug/Assassinsbug (22).png\n",
      "[[0. 0. 0. 1. 0.]]\n",
      "F:\\Datasetwbg2/train/Stink Bug/Assassinsbug (23).png\n",
      "[[0. 0. 0. 1. 0.]]\n",
      "F:\\Datasetwbg2/train/Stink Bug/Assassinsbug (24).png\n",
      "[[0. 0. 0. 1. 0.]]\n",
      "F:\\Datasetwbg2/train/Stink Bug/Assassinsbug (25).png\n",
      "[[0. 0. 0. 1. 0.]]\n",
      "F:\\Datasetwbg2/train/Stink Bug/Assassinsbug (26).png\n",
      "[[0. 0. 0. 1. 0.]]\n",
      "F:\\Datasetwbg2/train/Stink Bug/Assassinsbug (27).png\n",
      "[[0. 0. 0. 1. 0.]]\n",
      "F:\\Datasetwbg2/train/Stink Bug/Assassinsbug (28).png\n",
      "[[0. 0. 0. 1. 0.]]\n",
      "F:\\Datasetwbg2/train/Stink Bug/Assassinsbug (29).png\n",
      "[[0. 0. 0. 1. 0.]]\n",
      "F:\\Datasetwbg2/train/Stink Bug/Assassinsbug (30).png\n",
      "[[0. 0. 0. 1. 0.]]\n",
      "F:\\Datasetwbg2/train/Stink Bug/Assassinsbug (31).png\n",
      "[[0. 0. 0. 1. 0.]]\n",
      "F:\\Datasetwbg2/train/Stink Bug/Assassinsbug (32).png\n",
      "[[0. 0. 0. 1. 0.]]\n",
      "F:\\Datasetwbg2/train/Stink Bug/Assassinsbug (33).png\n",
      "[[0. 0. 0. 1. 0.]]\n",
      "F:\\Datasetwbg2/train/Stink Bug/Assassinsbug (34).png\n",
      "[[0. 0. 0. 1. 0.]]\n",
      "F:\\Datasetwbg2/train/Stink Bug/Assassinsbug (35).png\n",
      "[[0. 0. 0. 1. 0.]]\n",
      "F:\\Datasetwbg2/train/Stink Bug/Assassinsbug (36).png\n",
      "[[0. 0. 0. 1. 0.]]\n",
      "F:\\Datasetwbg2/train/Stink Bug/Assassinsbug (37).png\n",
      "[[0. 0. 0. 1. 0.]]\n",
      "F:\\Datasetwbg2/train/Stink Bug/Assassinsbug (38).png\n",
      "[[0. 0. 0. 1. 0.]]\n",
      "F:\\Datasetwbg2/train/Stink Bug/Assassinsbug (39).png\n",
      "[[0. 0. 0. 1. 0.]]\n",
      "F:\\Datasetwbg2/train/Stink Bug/Assassinsbug (40).png\n",
      "[[0. 0. 0. 1. 0.]]\n",
      "F:\\Datasetwbg2/train/Stink Bug/Assassinsbug (41).png\n",
      "[[0. 0. 0. 1. 0.]]\n"
     ]
    }
   ],
   "source": [
    "for i in range(100):\n",
    "    try:\n",
    "        img = image.load_img(f'F:\\Datasetwbg2/train/Moths/Moths ({i}).png')\n",
    "        print(f'F:\\Datasetwbg2/train/Stink Bug/Assassinsbug ({i}).png')\n",
    "        #img = image.load_img('F:\\Datasetwbg2/train/Wasp/W00002-removebg-preview.png')\n",
    "        #plt.imshow(img)\n",
    "        #plt.show()\n",
    "        img = img.resize((64,64))\n",
    "        #plt.imshow(img)\n",
    "        #plt.show()\n",
    "        X = image.img_to_array(img)\n",
    "        X = np.expand_dims(X,axis = 0)\n",
    "        images = np.vstack([X])\n",
    "        pred = saved.predict(images)\n",
    "        print(pred)\n",
    "        #print(max(pred[0]))\n",
    "        # for i in pred[0]:\n",
    "        #     print(str(i))\n",
    "        #     if i ==1:\n",
    "        #         print(train_data.class_indices.keys())\n",
    "    except:\n",
    "        pass"
   ]
  },
  {
   "cell_type": "code",
   "execution_count": null,
   "id": "7d8cda56",
   "metadata": {
    "id": "7d8cda56"
   },
   "outputs": [],
   "source": []
  },
  {
   "cell_type": "code",
   "execution_count": null,
   "id": "395ee62d",
   "metadata": {
    "id": "395ee62d",
    "outputId": "9ea71241-f0a0-4a77-9f0e-0113c45a3e95"
   },
   "outputs": [
    {
     "data": {
      "image/png": "[encoded data removed]",
      "text/plain": [
       "<Figure size 432x288 with 1 Axes>"
      ]
     },
     "metadata": {
      "needs_background": "light"
     },
     "output_type": "display_data"
    },
    {
     "name": "stdout",
     "output_type": "stream",
     "text": [
      "[[1. 0. 0. 0. 0.]]\n",
      "<class 'numpy.float32'>\n"
     ]
    }
   ],
   "source": [
    "img = image.load_img(r'F:\\Datasetwbg2\\train\\Assassins Bug\\Assassinsbug (37).png')\n",
    "#img = image.load_img('F:\\Datasetwbg2/train/Wasp/W00002-removebg-preview.png')\n",
    "plt.imshow(img)\n",
    "plt.show()\n",
    "img = img.resize((64,64))\n",
    "#plt.imshow(img)\n",
    "#plt.show()\n",
    "X = image.img_to_array(img)\n",
    "X = np.expand_dims(X,axis = 0)\n",
    "images = np.vstack([X])\n",
    "pred = saved.predict(images)\n",
    "print(pred)\n",
    "print(type(pred[0][0]))\n",
    "#print(max(pred[0]))\n",
    "# for i in pred[0]:\n",
    "#     print(str(i))\n",
    "#     if i ==1:\n",
    "#         print(train_data.class_indices.keys())"
   ]
  },
  {
   "cell_type": "code",
   "execution_count": null,
   "id": "267e9f9d",
   "metadata": {
    "id": "267e9f9d",
    "outputId": "3ecfff61-1603-42a7-acdf-c9bb7b83cf3a"
   },
   "outputs": [
    {
     "data": {
      "text/plain": [
       "{'Assassins Bug': 0, 'Bee': 1, 'Mosquito': 2, 'Moths': 3, 'Wasp': 4}"
      ]
     },
     "execution_count": 81,
     "metadata": {},
     "output_type": "execute_result"
    }
   ],
   "source": [
    "train_data.class_indices"
   ]
  },
  {
   "cell_type": "code",
   "execution_count": null,
   "id": "393e24ee",
   "metadata": {
    "id": "393e24ee"
   },
   "outputs": [],
   "source": [
    "pred_list = list(pred[0])"
   ]
  },
  {
   "cell_type": "code",
   "execution_count": null,
   "id": "10af12c1",
   "metadata": {
    "id": "10af12c1"
   },
   "outputs": [],
   "source": [
    "res = dict((v,k) for k,v in train_data.class_indices.items())"
   ]
  },
  {
   "cell_type": "code",
   "execution_count": null,
   "id": "93507eb5",
   "metadata": {
    "id": "93507eb5"
   },
   "outputs": [],
   "source": [
    "act_pred = res[pred_list.index(max(pred_list))]"
   ]
  },
  {
   "cell_type": "code",
   "execution_count": null,
   "id": "aa6d2a37",
   "metadata": {
    "id": "aa6d2a37",
    "outputId": "ae0a2495-7920-4679-8c87-78e655c8d05d"
   },
   "outputs": [
    {
     "data": {
      "text/plain": [
       "<Twilio.Api.V2010.MessageInstance account_sid=AC141d89f85e4b2cf9c1becd72d21358a2 sid=SM174de88cef0641d18f054c8ea8c9deed>"
      ]
     },
     "execution_count": 43,
     "metadata": {},
     "output_type": "execute_result"
    }
   ],
   "source": [
    "import os\n",
    "from twilio.rest import Client\n",
    "\n",
    "# Find these values at https://twilio.com/user/account\n",
    "# To set up environmental variables, see http://twil.io/secure\n",
    "account_sid = ''\n",
    "auth_token = ''\n",
    "\n",
    "client = Client(account_sid, auth_token)\n",
    "\n",
    "client.api.account.messages.create(\n",
    "    to=\"\",\n",
    "    from_=\"\",\n",
    "    body=\"Culicidae(Mosquito) Detected By The System In Your Area.\")"
   ]
  },
  {
   "cell_type": "code",
   "execution_count": null,
   "id": "dbad1b9d",
   "metadata": {
    "id": "dbad1b9d"
   },
   "outputs": [],
   "source": [
    "import os"
   ]
  },
  {
   "cell_type": "code",
   "execution_count": null,
   "id": "9f97f50f",
   "metadata": {
    "id": "9f97f50f"
   },
   "outputs": [],
   "source": [
    "os.mkdir(\"F:\\\\Dataset_PY\")"
   ]
  },
  {
   "cell_type": "code",
   "execution_count": null,
   "id": "b797716b",
   "metadata": {
    "id": "b797716b"
   },
   "outputs": [],
   "source": [
    "for i in os.listdir(\"F:\\\\Datasetwbg\"):\n",
    "    for j in os.listdir(\"F:\\\\Datasetwbg\" + i):\n"
   ]
  }
 ],
 "metadata": {
  "colab": {
   "provenance": []
  },
  "kernelspec": {
   "display_name": "Python 3 (ipykernel)",
   "language": "python",
   "name": "python3"
  },
  "language_info": {
   "codemirror_mode": {
    "name": "ipython",
    "version": 3
   },
   "file_extension": ".py",
   "mimetype": "text/x-python",
   "name": "python",
   "nbconvert_exporter": "python",
   "pygments_lexer": "ipython3",
   "version": "3.9.7"
  }
 },
 "nbformat": 4,
 "nbformat_minor": 5
}
